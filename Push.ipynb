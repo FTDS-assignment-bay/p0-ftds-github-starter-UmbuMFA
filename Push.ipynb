{
 "cells": [
  {
   "cell_type": "markdown",
   "id": "d6883172",
   "metadata": {},
   "source": [
    "# Tutorial Git\n",
    "## Clone Push Commit\n",
    "### petik menggunakna ipynb file"
   ]
  },
  {
   "cell_type": "markdown",
   "id": "56ad42bc",
   "metadata": {},
   "source": []
  },
  {
   "cell_type": "markdown",
   "id": "29132fa4",
   "metadata": {},
   "source": [
    "1. `git clone <Link repo>` \n",
    "2. `cd <repo lokal>` -> pindah ke path repo lokal.\n",
    "3. Buat file baru / assaigment ke file lokal\n",
    "\n",
    "------------Cicil Push dan Mau Push Update , Di bawah ini Tutorialnya----------\n",
    "\n",
    "4. `git status` -> cek file baru apakah berwarna merah\n",
    "5. `git add .` -> Memasukkan Semua File Tersebut ke Stage Mode \"Biasa Warna Hijau' jika File Tertentu saja `git add <namefile.type`>\n",
    "6. `git status ` cek status lagi\n",
    "7.  `git commit -m \"<Komen / Update>\" ` Commit File\n",
    "8. `git push` -> Submit ke Repo\n",
    "Cek Kembali Apakah File Tersebut Sudah terupload "
   ]
  },
  {
   "cell_type": "code",
   "execution_count": 7,
   "id": "27f6597e",
   "metadata": {},
   "outputs": [
    {
     "data": {
      "text/plain": [
       "6"
      ]
     },
     "execution_count": 7,
     "metadata": {},
     "output_type": "execute_result"
    }
   ],
   "source": [
    "2*3"
   ]
  }
 ],
 "metadata": {
  "kernelspec": {
   "display_name": "base",
   "language": "python",
   "name": "python3"
  },
  "language_info": {
   "codemirror_mode": {
    "name": "ipython",
    "version": 3
   },
   "file_extension": ".py",
   "mimetype": "text/x-python",
   "name": "python",
   "nbconvert_exporter": "python",
   "pygments_lexer": "ipython3",
   "version": "3.13.5"
  }
 },
 "nbformat": 4,
 "nbformat_minor": 5
}
